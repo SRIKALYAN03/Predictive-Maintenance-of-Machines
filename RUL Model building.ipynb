{
 "cells": [
  {
   "cell_type": "code",
   "execution_count": 1,
   "id": "0c7d3a6c",
   "metadata": {},
   "outputs": [],
   "source": [
    "import pandas as pd\n",
    "from sklearn.model_selection import train_test_split\n",
    "from sklearn.preprocessing import StandardScaler"
   ]
  },
  {
   "cell_type": "code",
   "execution_count": 2,
   "id": "8e1bedd1",
   "metadata": {},
   "outputs": [],
   "source": [
    "data=pd.read_csv('predictive_maintenance_dataset(1).csv')"
   ]
  },
  {
   "cell_type": "code",
   "execution_count": 3,
   "id": "72c412a9",
   "metadata": {},
   "outputs": [],
   "source": [
    "data['date']=pd.to_datetime(data['date'],errors='coerce')"
   ]
  },
  {
   "cell_type": "code",
   "execution_count": 4,
   "id": "301c183f",
   "metadata": {},
   "outputs": [],
   "source": [
    "data=data.sort_values(by=['device','date'])"
   ]
  },
  {
   "cell_type": "code",
   "execution_count": 5,
   "id": "6e3ae4bb",
   "metadata": {},
   "outputs": [],
   "source": [
    "data['RUL']=data.groupby('device')['date'].transform(lambda x: (x.max()-x).dt.days)"
   ]
  },
  {
   "cell_type": "code",
   "execution_count": 6,
   "id": "53340e52",
   "metadata": {},
   "outputs": [],
   "source": [
    "data.dropna(inplace=True)"
   ]
  },
  {
   "cell_type": "code",
   "execution_count": 7,
   "id": "fad6d11c",
   "metadata": {},
   "outputs": [],
   "source": [
    "data['day_of_week']=data['date'].dt.dayofweek\n",
    "data['month']=data['date'].dt.month"
   ]
  },
  {
   "cell_type": "code",
   "execution_count": 8,
   "id": "b9965930",
   "metadata": {},
   "outputs": [],
   "source": [
    "for metric in ['metric1', 'metric2', 'metric3', 'metric4', 'metric5', 'metric6', 'metric7', 'metric8', 'metric9']:\n",
    "    data[f'{metric}_rolling_mean']=data.groupby('device')[metric].transform(lambda x: x.rolling(5,min_periods=1).mean())"
   ]
  },
  {
   "cell_type": "code",
   "execution_count": 9,
   "id": "95aff520",
   "metadata": {},
   "outputs": [],
   "source": [
    "data.drop(columns=['date'],inplace=True)"
   ]
  },
  {
   "cell_type": "code",
   "execution_count": 10,
   "id": "0c68cc9c",
   "metadata": {},
   "outputs": [],
   "source": [
    "fc=data.columns.difference(['RUL', 'device'])\n",
    "X=data[fc]\n",
    "y=data['RUL']\n",
    "X_train,X_test,y_train,y_test=train_test_split(X,y,test_size=0.3,random_state=42)"
   ]
  },
  {
   "cell_type": "code",
   "execution_count": 11,
   "id": "6242ba35",
   "metadata": {},
   "outputs": [],
   "source": [
    "from sklearn.ensemble import RandomForestRegressor\n"
   ]
  },
  {
   "cell_type": "code",
   "execution_count": 12,
   "id": "8dba12e4",
   "metadata": {},
   "outputs": [
    {
     "data": {
      "text/plain": [
       "RandomForestRegressor(random_state=42)"
      ]
     },
     "execution_count": 12,
     "metadata": {},
     "output_type": "execute_result"
    }
   ],
   "source": [
    "model=RandomForestRegressor(n_estimators=100,random_state=42)\n",
    "model.fit(X_train,y_train)"
   ]
  },
  {
   "cell_type": "code",
   "execution_count": 13,
   "id": "a53eabb3",
   "metadata": {},
   "outputs": [
    {
     "name": "stdout",
     "output_type": "stream",
     "text": [
      "R score:0.88\n"
     ]
    }
   ],
   "source": [
    "from sklearn.metrics import r2_score\n",
    "y_pred=model.predict(X_test)\n",
    "r2=r2_score(y_test,y_pred)\n",
    "print(f'R score:{r2:.2f}')"
   ]
  },
  {
   "cell_type": "code",
   "execution_count": 14,
   "id": "c1a06b61",
   "metadata": {},
   "outputs": [
    {
     "name": "stdout",
     "output_type": "stream",
     "text": [
      "Model saved to random_forest_model.pkl\n"
     ]
    }
   ],
   "source": [
    "import joblib\n",
    "\n",
    "\n",
    "model_filename = 'random_forest_model.pkl'\n",
    "joblib.dump(model, model_filename)\n",
    "\n",
    "print(f'Model saved to {model_filename}')\n"
   ]
  },
  {
   "cell_type": "code",
   "execution_count": 16,
   "id": "9d0a7c92",
   "metadata": {},
   "outputs": [
    {
     "name": "stdout",
     "output_type": "stream",
     "text": [
      "Feature names and scaler saved.\n"
     ]
    }
   ],
   "source": [
    "import joblib\n",
    "from sklearn.preprocessing import StandardScaler\n",
    "\n",
    "# Define and fit the scaler\n",
    "scaler = StandardScaler()\n",
    "scaler.fit(X_train)\n",
    "\n",
    "\n",
    "# Save the feature names\n",
    "joblib.dump(fc, 'feature_names.pkl')\n",
    "\n",
    "# Save the scaler\n",
    "joblib.dump(scaler, 'scaler.pkl')\n",
    "\n",
    "print(\"Feature names and scaler saved.\")\n"
   ]
  },
  {
   "cell_type": "code",
   "execution_count": null,
   "id": "10f19329",
   "metadata": {},
   "outputs": [],
   "source": []
  }
 ],
 "metadata": {
  "kernelspec": {
   "display_name": "Python 3 (ipykernel)",
   "language": "python",
   "name": "python3"
  },
  "language_info": {
   "codemirror_mode": {
    "name": "ipython",
    "version": 3
   },
   "file_extension": ".py",
   "mimetype": "text/x-python",
   "name": "python",
   "nbconvert_exporter": "python",
   "pygments_lexer": "ipython3",
   "version": "3.9.13"
  }
 },
 "nbformat": 4,
 "nbformat_minor": 5
}
